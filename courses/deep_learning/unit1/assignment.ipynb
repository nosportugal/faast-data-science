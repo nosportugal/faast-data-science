{
  "cells": [
    {
      "cell_type": "markdown",
      "id": "view-in-github",
      "metadata": {
        "id": "view-in-github"
      },
      "source": [
        "<a href=\"https://colab.research.google.com/github/nosportugal/faast-data-science/blob/main/courses/deep_learning/unit1/assignment.ipynb\" target=\"_parent\"><img src=\"https://colab.research.google.com/assets/colab-badge.svg\" alt=\"Open In Colab\"/></a>"
      ]
    },
    {
      "cell_type": "markdown",
      "id": "d71bce70-9dc3-448b-9f9a-8896e83b6d09",
      "metadata": {
        "id": "d71bce70-9dc3-448b-9f9a-8896e83b6d09"
      },
      "source": [
        "# Unit 1: Deep Learning Fundamentals\n",
        "\n",
        "The goal of this unit's assignment is to make sure you have your working environment setup and ready to go for the rest of the course. We will be using [Google Colab](https://colab.research.google.com/notebook) for all the assignments. Google Colab is a free Jupyter notebook environment that requires no setup and runs entirely in the cloud. It is a great tool for learning and experimenting with deep learning.\n",
        "\n",
        "If you followed the instructions on this unit's README file, you should likely be reading this on a Google Colab notebook. If not, please go back and follow the instructions there. If you are indeed running this on Google Colab, please proceed to read the rest of this notebook and run the code cells below."
      ]
    },
    {
      "cell_type": "markdown",
      "id": "E28TICHgB6C0",
      "metadata": {
        "id": "E28TICHgB6C0"
      },
      "source": [
        "In this unit, you won't be doing any coding (except if you really want to, in which case we encourage you to play around with this notebook). Instead, you should simply run the code in the cells below and make sure everything is working as expected.\n",
        "\n",
        "The code is very simple and should run without any issues. It was adapted from [Unit 3 of the Deep Learning Fundamentals course on Lightning AI](https://github.com/Lightning-AI/dl-fundamentals/blob/main/unit03-pytorch-training/3.6-logreg-in-pytorch/logreg-part3.ipynb). A few comments were added to give context to those who may have skipped the video lessons."
      ]
    },
    {
      "cell_type": "markdown",
      "id": "b9549676-2fa5-41a7-bbb9-ce03f5797c34",
      "metadata": {
        "id": "b9549676-2fa5-41a7-bbb9-ce03f5797c34"
      },
      "source": [
        "## 1) Loading the Dataset\n",
        "\n",
        "The dataset contains 20 observations, each of which has two features, $x_1$ and $x_2$, and a binary label $y$.\n",
        "\n",
        "Below we load the dataset and print some of its properties."
      ]
    },
    {
      "cell_type": "code",
      "execution_count": 1,
      "id": "0hLLhr3aBzDf",
      "metadata": {
        "id": "0hLLhr3aBzDf"
      },
      "outputs": [],
      "source": [
        "import pandas as pd"
      ]
    },
    {
      "cell_type": "code",
      "execution_count": 2,
      "id": "zJyxeM8aAu2V",
      "metadata": {
        "id": "zJyxeM8aAu2V"
      },
      "outputs": [],
      "source": [
        "data = [\n",
        "    [0.77, -1.14, 0],\n",
        "    [-0.33, 1.44, 0],\n",
        "    [0.91, -3.07, 0],\n",
        "    [-0.37, -1.91, 0],\n",
        "    [-0.63, -1.53, 0],\n",
        "    [0.39, -1.99, 0],\n",
        "    [-0.49, -2.74, 0],\n",
        "    [-0.68, -1.52, 0],\n",
        "    [-0.10, -3.43, 0],\n",
        "    [-0.05, -1.95, 0],\n",
        "    [3.88, 0.65, 1],\n",
        "    [0.73, 2.97, 1],\n",
        "    [0.83, 3.94, 1],\n",
        "    [1.59, 1.25, 1],\n",
        "    [1.14, 3.91, 1],\n",
        "    [1.73, 2.80, 1],\n",
        "    [1.31, 1.85, 1],\n",
        "    [1.56, 3.85, 1],\n",
        "    [1.23, 2.54, 1],\n",
        "    [1.33, 2.03, 1]\n",
        "]\n",
        "\n",
        "columns = ['x1', 'x2', 'label']\n",
        "\n",
        "df = pd.DataFrame(data, columns=columns)"
      ]
    },
    {
      "cell_type": "code",
      "execution_count": 3,
      "id": "f609024c-3eae-4ad5-8cb8-b95b403b7606",
      "metadata": {
        "colab": {
          "base_uri": "https://localhost:8080/",
          "height": 677
        },
        "id": "f609024c-3eae-4ad5-8cb8-b95b403b7606",
        "outputId": "a9e0486d-a110-47cc-e8ae-e342335696ce"
      },
      "outputs": [
        {
          "data": {
            "text/html": [
              "\n",
              "  <div id=\"df-d6c7913c-7d15-45e5-86cb-8b0bde2f4cca\" class=\"colab-df-container\">\n",
              "    <div>\n",
              "<style scoped>\n",
              "    .dataframe tbody tr th:only-of-type {\n",
              "        vertical-align: middle;\n",
              "    }\n",
              "\n",
              "    .dataframe tbody tr th {\n",
              "        vertical-align: top;\n",
              "    }\n",
              "\n",
              "    .dataframe thead th {\n",
              "        text-align: right;\n",
              "    }\n",
              "</style>\n",
              "<table border=\"1\" class=\"dataframe\">\n",
              "  <thead>\n",
              "    <tr style=\"text-align: right;\">\n",
              "      <th></th>\n",
              "      <th>x1</th>\n",
              "      <th>x2</th>\n",
              "      <th>label</th>\n",
              "    </tr>\n",
              "  </thead>\n",
              "  <tbody>\n",
              "    <tr>\n",
              "      <th>0</th>\n",
              "      <td>0.77</td>\n",
              "      <td>-1.14</td>\n",
              "      <td>0</td>\n",
              "    </tr>\n",
              "    <tr>\n",
              "      <th>1</th>\n",
              "      <td>-0.33</td>\n",
              "      <td>1.44</td>\n",
              "      <td>0</td>\n",
              "    </tr>\n",
              "    <tr>\n",
              "      <th>2</th>\n",
              "      <td>0.91</td>\n",
              "      <td>-3.07</td>\n",
              "      <td>0</td>\n",
              "    </tr>\n",
              "    <tr>\n",
              "      <th>3</th>\n",
              "      <td>-0.37</td>\n",
              "      <td>-1.91</td>\n",
              "      <td>0</td>\n",
              "    </tr>\n",
              "    <tr>\n",
              "      <th>4</th>\n",
              "      <td>-0.63</td>\n",
              "      <td>-1.53</td>\n",
              "      <td>0</td>\n",
              "    </tr>\n",
              "    <tr>\n",
              "      <th>5</th>\n",
              "      <td>0.39</td>\n",
              "      <td>-1.99</td>\n",
              "      <td>0</td>\n",
              "    </tr>\n",
              "    <tr>\n",
              "      <th>6</th>\n",
              "      <td>-0.49</td>\n",
              "      <td>-2.74</td>\n",
              "      <td>0</td>\n",
              "    </tr>\n",
              "    <tr>\n",
              "      <th>7</th>\n",
              "      <td>-0.68</td>\n",
              "      <td>-1.52</td>\n",
              "      <td>0</td>\n",
              "    </tr>\n",
              "    <tr>\n",
              "      <th>8</th>\n",
              "      <td>-0.10</td>\n",
              "      <td>-3.43</td>\n",
              "      <td>0</td>\n",
              "    </tr>\n",
              "    <tr>\n",
              "      <th>9</th>\n",
              "      <td>-0.05</td>\n",
              "      <td>-1.95</td>\n",
              "      <td>0</td>\n",
              "    </tr>\n",
              "    <tr>\n",
              "      <th>10</th>\n",
              "      <td>3.88</td>\n",
              "      <td>0.65</td>\n",
              "      <td>1</td>\n",
              "    </tr>\n",
              "    <tr>\n",
              "      <th>11</th>\n",
              "      <td>0.73</td>\n",
              "      <td>2.97</td>\n",
              "      <td>1</td>\n",
              "    </tr>\n",
              "    <tr>\n",
              "      <th>12</th>\n",
              "      <td>0.83</td>\n",
              "      <td>3.94</td>\n",
              "      <td>1</td>\n",
              "    </tr>\n",
              "    <tr>\n",
              "      <th>13</th>\n",
              "      <td>1.59</td>\n",
              "      <td>1.25</td>\n",
              "      <td>1</td>\n",
              "    </tr>\n",
              "    <tr>\n",
              "      <th>14</th>\n",
              "      <td>1.14</td>\n",
              "      <td>3.91</td>\n",
              "      <td>1</td>\n",
              "    </tr>\n",
              "    <tr>\n",
              "      <th>15</th>\n",
              "      <td>1.73</td>\n",
              "      <td>2.80</td>\n",
              "      <td>1</td>\n",
              "    </tr>\n",
              "    <tr>\n",
              "      <th>16</th>\n",
              "      <td>1.31</td>\n",
              "      <td>1.85</td>\n",
              "      <td>1</td>\n",
              "    </tr>\n",
              "    <tr>\n",
              "      <th>17</th>\n",
              "      <td>1.56</td>\n",
              "      <td>3.85</td>\n",
              "      <td>1</td>\n",
              "    </tr>\n",
              "    <tr>\n",
              "      <th>18</th>\n",
              "      <td>1.23</td>\n",
              "      <td>2.54</td>\n",
              "      <td>1</td>\n",
              "    </tr>\n",
              "    <tr>\n",
              "      <th>19</th>\n",
              "      <td>1.33</td>\n",
              "      <td>2.03</td>\n",
              "      <td>1</td>\n",
              "    </tr>\n",
              "  </tbody>\n",
              "</table>\n",
              "</div>\n",
              "    <div class=\"colab-df-buttons\">\n",
              "\n",
              "  <div class=\"colab-df-container\">\n",
              "    <button class=\"colab-df-convert\" onclick=\"convertToInteractive('df-d6c7913c-7d15-45e5-86cb-8b0bde2f4cca')\"\n",
              "            title=\"Convert this dataframe to an interactive table.\"\n",
              "            style=\"display:none;\">\n",
              "\n",
              "  <svg xmlns=\"http://www.w3.org/2000/svg\" height=\"24px\" viewBox=\"0 -960 960 960\">\n",
              "    <path d=\"M120-120v-720h720v720H120Zm60-500h600v-160H180v160Zm220 220h160v-160H400v160Zm0 220h160v-160H400v160ZM180-400h160v-160H180v160Zm440 0h160v-160H620v160ZM180-180h160v-160H180v160Zm440 0h160v-160H620v160Z\"/>\n",
              "  </svg>\n",
              "    </button>\n",
              "\n",
              "  <style>\n",
              "    .colab-df-container {\n",
              "      display:flex;\n",
              "      gap: 12px;\n",
              "    }\n",
              "\n",
              "    .colab-df-convert {\n",
              "      background-color: #E8F0FE;\n",
              "      border: none;\n",
              "      border-radius: 50%;\n",
              "      cursor: pointer;\n",
              "      display: none;\n",
              "      fill: #1967D2;\n",
              "      height: 32px;\n",
              "      padding: 0 0 0 0;\n",
              "      width: 32px;\n",
              "    }\n",
              "\n",
              "    .colab-df-convert:hover {\n",
              "      background-color: #E2EBFA;\n",
              "      box-shadow: 0px 1px 2px rgba(60, 64, 67, 0.3), 0px 1px 3px 1px rgba(60, 64, 67, 0.15);\n",
              "      fill: #174EA6;\n",
              "    }\n",
              "\n",
              "    .colab-df-buttons div {\n",
              "      margin-bottom: 4px;\n",
              "    }\n",
              "\n",
              "    [theme=dark] .colab-df-convert {\n",
              "      background-color: #3B4455;\n",
              "      fill: #D2E3FC;\n",
              "    }\n",
              "\n",
              "    [theme=dark] .colab-df-convert:hover {\n",
              "      background-color: #434B5C;\n",
              "      box-shadow: 0px 1px 3px 1px rgba(0, 0, 0, 0.15);\n",
              "      filter: drop-shadow(0px 1px 2px rgba(0, 0, 0, 0.3));\n",
              "      fill: #FFFFFF;\n",
              "    }\n",
              "  </style>\n",
              "\n",
              "    <script>\n",
              "      const buttonEl =\n",
              "        document.querySelector('#df-d6c7913c-7d15-45e5-86cb-8b0bde2f4cca button.colab-df-convert');\n",
              "      buttonEl.style.display =\n",
              "        google.colab.kernel.accessAllowed ? 'block' : 'none';\n",
              "\n",
              "      async function convertToInteractive(key) {\n",
              "        const element = document.querySelector('#df-d6c7913c-7d15-45e5-86cb-8b0bde2f4cca');\n",
              "        const dataTable =\n",
              "          await google.colab.kernel.invokeFunction('convertToInteractive',\n",
              "                                                    [key], {});\n",
              "        if (!dataTable) return;\n",
              "\n",
              "        const docLinkHtml = 'Like what you see? Visit the ' +\n",
              "          '<a target=\"_blank\" href=https://colab.research.google.com/notebooks/data_table.ipynb>data table notebook</a>'\n",
              "          + ' to learn more about interactive tables.';\n",
              "        element.innerHTML = '';\n",
              "        dataTable['output_type'] = 'display_data';\n",
              "        await google.colab.output.renderOutput(dataTable, element);\n",
              "        const docLink = document.createElement('div');\n",
              "        docLink.innerHTML = docLinkHtml;\n",
              "        element.appendChild(docLink);\n",
              "      }\n",
              "    </script>\n",
              "  </div>\n",
              "\n",
              "\n",
              "<div id=\"df-363efb03-8f20-489e-9338-30902d055108\">\n",
              "  <button class=\"colab-df-quickchart\" onclick=\"quickchart('df-363efb03-8f20-489e-9338-30902d055108')\"\n",
              "            title=\"Suggest charts.\"\n",
              "            style=\"display:none;\">\n",
              "\n",
              "<svg xmlns=\"http://www.w3.org/2000/svg\" height=\"24px\"viewBox=\"0 0 24 24\"\n",
              "     width=\"24px\">\n",
              "    <g>\n",
              "        <path d=\"M19 3H5c-1.1 0-2 .9-2 2v14c0 1.1.9 2 2 2h14c1.1 0 2-.9 2-2V5c0-1.1-.9-2-2-2zM9 17H7v-7h2v7zm4 0h-2V7h2v10zm4 0h-2v-4h2v4z\"/>\n",
              "    </g>\n",
              "</svg>\n",
              "  </button>\n",
              "\n",
              "<style>\n",
              "  .colab-df-quickchart {\n",
              "    background-color: #E8F0FE;\n",
              "    border: none;\n",
              "    border-radius: 50%;\n",
              "    cursor: pointer;\n",
              "    display: none;\n",
              "    fill: #1967D2;\n",
              "    height: 32px;\n",
              "    padding: 0 0 0 0;\n",
              "    width: 32px;\n",
              "  }\n",
              "\n",
              "  .colab-df-quickchart:hover {\n",
              "    background-color: #E2EBFA;\n",
              "    box-shadow: 0px 1px 2px rgba(60, 64, 67, 0.3), 0px 1px 3px 1px rgba(60, 64, 67, 0.15);\n",
              "    fill: #174EA6;\n",
              "  }\n",
              "\n",
              "  [theme=dark] .colab-df-quickchart {\n",
              "    background-color: #3B4455;\n",
              "    fill: #D2E3FC;\n",
              "  }\n",
              "\n",
              "  [theme=dark] .colab-df-quickchart:hover {\n",
              "    background-color: #434B5C;\n",
              "    box-shadow: 0px 1px 3px 1px rgba(0, 0, 0, 0.15);\n",
              "    filter: drop-shadow(0px 1px 2px rgba(0, 0, 0, 0.3));\n",
              "    fill: #FFFFFF;\n",
              "  }\n",
              "</style>\n",
              "\n",
              "  <script>\n",
              "    async function quickchart(key) {\n",
              "      const charts = await google.colab.kernel.invokeFunction(\n",
              "          'suggestCharts', [key], {});\n",
              "    }\n",
              "    (() => {\n",
              "      let quickchartButtonEl =\n",
              "        document.querySelector('#df-363efb03-8f20-489e-9338-30902d055108 button');\n",
              "      quickchartButtonEl.style.display =\n",
              "        google.colab.kernel.accessAllowed ? 'block' : 'none';\n",
              "    })();\n",
              "  </script>\n",
              "</div>\n",
              "    </div>\n",
              "  </div>\n"
            ],
            "text/plain": [
              "      x1    x2  label\n",
              "0   0.77 -1.14      0\n",
              "1  -0.33  1.44      0\n",
              "2   0.91 -3.07      0\n",
              "3  -0.37 -1.91      0\n",
              "4  -0.63 -1.53      0\n",
              "5   0.39 -1.99      0\n",
              "6  -0.49 -2.74      0\n",
              "7  -0.68 -1.52      0\n",
              "8  -0.10 -3.43      0\n",
              "9  -0.05 -1.95      0\n",
              "10  3.88  0.65      1\n",
              "11  0.73  2.97      1\n",
              "12  0.83  3.94      1\n",
              "13  1.59  1.25      1\n",
              "14  1.14  3.91      1\n",
              "15  1.73  2.80      1\n",
              "16  1.31  1.85      1\n",
              "17  1.56  3.85      1\n",
              "18  1.23  2.54      1\n",
              "19  1.33  2.03      1"
            ]
          },
          "execution_count": 3,
          "metadata": {},
          "output_type": "execute_result"
        }
      ],
      "source": [
        "df"
      ]
    },
    {
      "cell_type": "code",
      "execution_count": 4,
      "id": "319546d0-e9ed-4542-873e-395edc05ef2f",
      "metadata": {
        "id": "319546d0-e9ed-4542-873e-395edc05ef2f"
      },
      "outputs": [],
      "source": [
        "X_train = df[[\"x1\", \"x2\"]].values\n",
        "y_train = df[\"label\"].values"
      ]
    },
    {
      "cell_type": "code",
      "execution_count": 5,
      "id": "71792068-9926-41bb-81c0-2a46f6e956fc",
      "metadata": {
        "colab": {
          "base_uri": "https://localhost:8080/"
        },
        "id": "71792068-9926-41bb-81c0-2a46f6e956fc",
        "outputId": "63908d27-8941-4187-d73d-59942ff4f0ca"
      },
      "outputs": [
        {
          "data": {
            "text/plain": [
              "array([[ 0.77, -1.14],\n",
              "       [-0.33,  1.44],\n",
              "       [ 0.91, -3.07],\n",
              "       [-0.37, -1.91],\n",
              "       [-0.63, -1.53],\n",
              "       [ 0.39, -1.99],\n",
              "       [-0.49, -2.74],\n",
              "       [-0.68, -1.52],\n",
              "       [-0.1 , -3.43],\n",
              "       [-0.05, -1.95],\n",
              "       [ 3.88,  0.65],\n",
              "       [ 0.73,  2.97],\n",
              "       [ 0.83,  3.94],\n",
              "       [ 1.59,  1.25],\n",
              "       [ 1.14,  3.91],\n",
              "       [ 1.73,  2.8 ],\n",
              "       [ 1.31,  1.85],\n",
              "       [ 1.56,  3.85],\n",
              "       [ 1.23,  2.54],\n",
              "       [ 1.33,  2.03]])"
            ]
          },
          "execution_count": 5,
          "metadata": {},
          "output_type": "execute_result"
        }
      ],
      "source": [
        "X_train"
      ]
    },
    {
      "cell_type": "code",
      "execution_count": 6,
      "id": "f2571853-0be0-48b2-9985-8a6021d01276",
      "metadata": {
        "colab": {
          "base_uri": "https://localhost:8080/"
        },
        "id": "f2571853-0be0-48b2-9985-8a6021d01276",
        "outputId": "fc7e5e6e-0c47-4ea0-fa62-468d45880cb0"
      },
      "outputs": [
        {
          "data": {
            "text/plain": [
              "(20, 2)"
            ]
          },
          "execution_count": 6,
          "metadata": {},
          "output_type": "execute_result"
        }
      ],
      "source": [
        "X_train.shape"
      ]
    },
    {
      "cell_type": "code",
      "execution_count": 7,
      "id": "3a5e5ffb-1bca-4f1b-b4cf-a78be1b07753",
      "metadata": {
        "colab": {
          "base_uri": "https://localhost:8080/"
        },
        "id": "3a5e5ffb-1bca-4f1b-b4cf-a78be1b07753",
        "outputId": "ee2203d9-e8cb-4f30-8f47-21ea98377d2b"
      },
      "outputs": [
        {
          "data": {
            "text/plain": [
              "array([0, 0, 0, 0, 0, 0, 0, 0, 0, 0, 1, 1, 1, 1, 1, 1, 1, 1, 1, 1])"
            ]
          },
          "execution_count": 7,
          "metadata": {},
          "output_type": "execute_result"
        }
      ],
      "source": [
        "y_train"
      ]
    },
    {
      "cell_type": "code",
      "execution_count": 8,
      "id": "68bfbbf9-4fed-4111-8391-15f2b338d8b4",
      "metadata": {
        "colab": {
          "base_uri": "https://localhost:8080/"
        },
        "id": "68bfbbf9-4fed-4111-8391-15f2b338d8b4",
        "outputId": "59e1beaa-6d60-48af-ccc3-b384dcf7cbaa"
      },
      "outputs": [
        {
          "data": {
            "text/plain": [
              "(20,)"
            ]
          },
          "execution_count": 8,
          "metadata": {},
          "output_type": "execute_result"
        }
      ],
      "source": [
        "y_train.shape"
      ]
    },
    {
      "cell_type": "code",
      "execution_count": 9,
      "id": "b6800df4-98f6-401e-bb6c-9964c3b6e3cb",
      "metadata": {
        "colab": {
          "base_uri": "https://localhost:8080/"
        },
        "id": "b6800df4-98f6-401e-bb6c-9964c3b6e3cb",
        "outputId": "d70f95c1-0e17-4db1-d000-ab99665388fd"
      },
      "outputs": [
        {
          "data": {
            "text/plain": [
              "array([10, 10])"
            ]
          },
          "execution_count": 9,
          "metadata": {},
          "output_type": "execute_result"
        }
      ],
      "source": [
        "import numpy as np\n",
        "\n",
        "np.bincount(y_train)"
      ]
    },
    {
      "cell_type": "markdown",
      "id": "fc4663a6-e8a7-472e-b9b0-c64f546a85e9",
      "metadata": {
        "id": "fc4663a6-e8a7-472e-b9b0-c64f546a85e9"
      },
      "source": [
        "## 2) Visualizing the dataset\n",
        "\n",
        "We can visualize the dataset by plotting the two features ($x_1$ and $x_2$) in a scatter plot. We can also color each point according to its label ($y$)."
      ]
    },
    {
      "cell_type": "code",
      "execution_count": 10,
      "id": "36a879c3-0c84-4476-a79a-f41d897c696a",
      "metadata": {
        "id": "36a879c3-0c84-4476-a79a-f41d897c696a"
      },
      "outputs": [],
      "source": [
        "%matplotlib inline\n",
        "import matplotlib.pyplot as plt"
      ]
    },
    {
      "cell_type": "code",
      "execution_count": 11,
      "id": "bd31bb2e-5699-43d4-8874-38e9307ce853",
      "metadata": {
        "colab": {
          "base_uri": "https://localhost:8080/",
          "height": 455
        },
        "id": "bd31bb2e-5699-43d4-8874-38e9307ce853",
        "outputId": "7ab68f63-f5fb-45b6-e83e-a252bfb38469"
      },
      "outputs": [
        {
          "data": {
            "image/png": "[encoded data removed]",
            "text/plain": [
              "<Figure size 640x480 with 1 Axes>"
            ]
          },
          "metadata": {},
          "output_type": "display_data"
        }
      ],
      "source": [
        "plt.plot(\n",
        "    X_train[y_train == 0, 0],\n",
        "    X_train[y_train == 0, 1],\n",
        "    marker=\"D\",\n",
        "    markersize=10,\n",
        "    linestyle=\"\",\n",
        "    label=\"Class 0\",\n",
        ")\n",
        "\n",
        "plt.plot(\n",
        "    X_train[y_train == 1, 0],\n",
        "    X_train[y_train == 1, 1],\n",
        "    marker=\"^\",\n",
        "    markersize=13,\n",
        "    linestyle=\"\",\n",
        "    label=\"Class 1\",\n",
        ")\n",
        "\n",
        "plt.legend(loc=2)\n",
        "\n",
        "plt.xlim([-5, 5])\n",
        "plt.ylim([-5, 5])\n",
        "\n",
        "plt.xlabel(\"Feature $x_1$\", fontsize=12)\n",
        "plt.ylabel(\"Feature $x_2$\", fontsize=12)\n",
        "\n",
        "plt.grid()\n",
        "plt.show()"
      ]
    },
    {
      "cell_type": "markdown",
      "id": "ca1991c7",
      "metadata": {
        "id": "ca1991c7"
      },
      "source": [
        "We normalize the data, to guarantee that features are centered around zero. This is a common practice in deep learning, as it helps models converge faster."
      ]
    },
    {
      "cell_type": "code",
      "execution_count": 12,
      "id": "56e353d0-f75d-4267-8b41-68433780d590",
      "metadata": {
        "id": "56e353d0-f75d-4267-8b41-68433780d590"
      },
      "outputs": [],
      "source": [
        "X_train = (X_train - X_train.mean(axis=0)) / X_train.std(axis=0)"
      ]
    },
    {
      "cell_type": "code",
      "execution_count": 13,
      "id": "295f3b29-2b8e-4280-8f25-92b4429002d2",
      "metadata": {
        "colab": {
          "base_uri": "https://localhost:8080/",
          "height": 455
        },
        "id": "295f3b29-2b8e-4280-8f25-92b4429002d2",
        "outputId": "cfcede63-466c-4d70-fc6a-7455e3435f5a"
      },
      "outputs": [
        {
          "data": {
            "image/png": "[encoded data removed]",
            "text/plain": [
              "<Figure size 640x480 with 1 Axes>"
            ]
          },
          "metadata": {},
          "output_type": "display_data"
        }
      ],
      "source": [
        "plt.plot(\n",
        "    X_train[y_train == 0, 0],\n",
        "    X_train[y_train == 0, 1],\n",
        "    marker=\"D\",\n",
        "    markersize=10,\n",
        "    linestyle=\"\",\n",
        "    label=\"Class 0\",\n",
        ")\n",
        "\n",
        "plt.plot(\n",
        "    X_train[y_train == 1, 0],\n",
        "    X_train[y_train == 1, 1],\n",
        "    marker=\"^\",\n",
        "    markersize=13,\n",
        "    linestyle=\"\",\n",
        "    label=\"Class 1\",\n",
        ")\n",
        "\n",
        "plt.legend(loc=2)\n",
        "\n",
        "plt.xlim([-5, 5])\n",
        "plt.ylim([-5, 5])\n",
        "\n",
        "plt.xlabel(\"Feature $x_1$\", fontsize=12)\n",
        "plt.ylabel(\"Feature $x_2$\", fontsize=12)\n",
        "\n",
        "plt.grid()\n",
        "plt.show()"
      ]
    },
    {
      "cell_type": "markdown",
      "id": "db50db02-3696-4f86-b149-74baabeec6c4",
      "metadata": {
        "id": "db50db02-3696-4f86-b149-74baabeec6c4"
      },
      "source": [
        "## 3) Implementing the model\n",
        "\n",
        "The model is a simple logistic regression model. It takes two inputs ($x_1$ and $x_2$) and outputs a single value between 0 and 1, which we interpret as the probability of the input belonging to class 1.\n",
        "\n",
        "Below we define the model and print a simple evaluation of the model's forward pass."
      ]
    },
    {
      "cell_type": "code",
      "execution_count": 14,
      "id": "3da86d9a-7cd5-467c-bf65-3388fe272bd5",
      "metadata": {
        "id": "3da86d9a-7cd5-467c-bf65-3388fe272bd5"
      },
      "outputs": [],
      "source": [
        "import torch\n",
        "\n",
        "class LogisticRegression(torch.nn.Module):\n",
        "\n",
        "    def __init__(self, num_features):\n",
        "        super().__init__()\n",
        "        self.linear = torch.nn.Linear(num_features, 1)\n",
        "\n",
        "    def forward(self, x):\n",
        "        logits = self.linear(x)\n",
        "        probas = torch.sigmoid(logits)\n",
        "        return probas"
      ]
    },
    {
      "cell_type": "code",
      "execution_count": 15,
      "id": "e88b360e-c33c-4724-b46f-58323a9a7628",
      "metadata": {
        "id": "e88b360e-c33c-4724-b46f-58323a9a7628"
      },
      "outputs": [],
      "source": [
        "torch.manual_seed(1)\n",
        "\n",
        "model = LogisticRegression(num_features=2)"
      ]
    },
    {
      "cell_type": "code",
      "execution_count": 16,
      "id": "f2923ae0-cf24-4252-bd19-cc326a39bc72",
      "metadata": {
        "colab": {
          "base_uri": "https://localhost:8080/"
        },
        "id": "f2923ae0-cf24-4252-bd19-cc326a39bc72",
        "outputId": "7e263dd5-e172-45d1-f375-a4709c889e0a"
      },
      "outputs": [
        {
          "name": "stdout",
          "output_type": "stream",
          "text": [
            "tensor([0.4033])\n"
          ]
        }
      ],
      "source": [
        "x = torch.tensor([1.1, 2.1])\n",
        "\n",
        "with torch.no_grad():\n",
        "    proba = model(x)\n",
        "\n",
        "print(proba)"
      ]
    },
    {
      "cell_type": "markdown",
      "id": "12068721-daf9-4ea1-9240-5bcc19c75ce9",
      "metadata": {
        "id": "12068721-daf9-4ea1-9240-5bcc19c75ce9"
      },
      "source": [
        "## 4) Defining a DataLoader\n",
        "\n",
        "We define a PyTorch DataLoader to help us iterate over the dataset during training."
      ]
    },
    {
      "cell_type": "code",
      "execution_count": 17,
      "id": "f6376d80-e7cf-43b4-96eb-bfd99709b63a",
      "metadata": {
        "id": "f6376d80-e7cf-43b4-96eb-bfd99709b63a"
      },
      "outputs": [],
      "source": [
        "from torch.utils.data import Dataset, DataLoader\n",
        "\n",
        "\n",
        "class MyDataset(Dataset):\n",
        "    def __init__(self, X, y):\n",
        "\n",
        "        self.features = torch.tensor(X, dtype=torch.float32)\n",
        "        self.labels = torch.tensor(y, dtype=torch.float32)\n",
        "\n",
        "    def __getitem__(self, index):\n",
        "        x = self.features[index]\n",
        "        y = self.labels[index]\n",
        "        return x, y\n",
        "\n",
        "    def __len__(self):\n",
        "        return self.labels.shape[0]\n",
        "\n",
        "\n",
        "train_ds = MyDataset(X_train, y_train)\n",
        "\n",
        "train_loader = DataLoader(\n",
        "    dataset=train_ds,\n",
        "    batch_size=10,\n",
        "    shuffle=True,\n",
        ")"
      ]
    },
    {
      "cell_type": "code",
      "execution_count": 18,
      "id": "b64f8926-930c-4945-950a-31083608ea7e",
      "metadata": {
        "colab": {
          "base_uri": "https://localhost:8080/"
        },
        "id": "b64f8926-930c-4945-950a-31083608ea7e",
        "outputId": "3eaa8d1d-7a9d-4e5d-ec0c-76bd2dda86dd"
      },
      "outputs": [
        {
          "data": {
            "text/plain": [
              "(20, 2)"
            ]
          },
          "execution_count": 18,
          "metadata": {},
          "output_type": "execute_result"
        }
      ],
      "source": [
        "X_train.shape"
      ]
    },
    {
      "cell_type": "markdown",
      "id": "46bc16a0-ec59-4c54-a209-0a5e22406287",
      "metadata": {
        "id": "46bc16a0-ec59-4c54-a209-0a5e22406287"
      },
      "source": [
        "## 5) The training loop\n",
        "\n",
        "We define a simple training loop that iterates over the dataset and updates the model's parameters using gradient descent. Binary cross-entropy is used as the loss function."
      ]
    },
    {
      "cell_type": "code",
      "execution_count": 19,
      "id": "3dcaa2b1-4019-4128-9ff5-6a966c3abdf2",
      "metadata": {
        "colab": {
          "base_uri": "https://localhost:8080/"
        },
        "id": "3dcaa2b1-4019-4128-9ff5-6a966c3abdf2",
        "outputId": "7feceea8-9927-4419-f851-f3756993cac5"
      },
      "outputs": [
        {
          "name": "stdout",
          "output_type": "stream",
          "text": [
            "Epoch: 001/020 | Batch 000/002 | Loss: 0.67\n",
            "Epoch: 001/020 | Batch 001/002 | Loss: 0.73\n",
            "Epoch: 002/020 | Batch 000/002 | Loss: 0.67\n",
            "Epoch: 002/020 | Batch 001/002 | Loss: 0.67\n",
            "Epoch: 003/020 | Batch 000/002 | Loss: 0.60\n",
            "Epoch: 003/020 | Batch 001/002 | Loss: 0.68\n",
            "Epoch: 004/020 | Batch 000/002 | Loss: 0.69\n",
            "Epoch: 004/020 | Batch 001/002 | Loss: 0.54\n",
            "Epoch: 005/020 | Batch 000/002 | Loss: 0.61\n",
            "Epoch: 005/020 | Batch 001/002 | Loss: 0.57\n",
            "Epoch: 006/020 | Batch 000/002 | Loss: 0.59\n",
            "Epoch: 006/020 | Batch 001/002 | Loss: 0.54\n",
            "Epoch: 007/020 | Batch 000/002 | Loss: 0.51\n",
            "Epoch: 007/020 | Batch 001/002 | Loss: 0.58\n",
            "Epoch: 008/020 | Batch 000/002 | Loss: 0.51\n",
            "Epoch: 008/020 | Batch 001/002 | Loss: 0.54\n",
            "Epoch: 009/020 | Batch 000/002 | Loss: 0.51\n",
            "Epoch: 009/020 | Batch 001/002 | Loss: 0.49\n",
            "Epoch: 010/020 | Batch 000/002 | Loss: 0.53\n",
            "Epoch: 010/020 | Batch 001/002 | Loss: 0.44\n",
            "Epoch: 011/020 | Batch 000/002 | Loss: 0.42\n",
            "Epoch: 011/020 | Batch 001/002 | Loss: 0.52\n",
            "Epoch: 012/020 | Batch 000/002 | Loss: 0.46\n",
            "Epoch: 012/020 | Batch 001/002 | Loss: 0.44\n",
            "Epoch: 013/020 | Batch 000/002 | Loss: 0.46\n",
            "Epoch: 013/020 | Batch 001/002 | Loss: 0.42\n",
            "Epoch: 014/020 | Batch 000/002 | Loss: 0.41\n",
            "Epoch: 014/020 | Batch 001/002 | Loss: 0.43\n",
            "Epoch: 015/020 | Batch 000/002 | Loss: 0.43\n",
            "Epoch: 015/020 | Batch 001/002 | Loss: 0.39\n",
            "Epoch: 016/020 | Batch 000/002 | Loss: 0.41\n",
            "Epoch: 016/020 | Batch 001/002 | Loss: 0.39\n",
            "Epoch: 017/020 | Batch 000/002 | Loss: 0.38\n",
            "Epoch: 017/020 | Batch 001/002 | Loss: 0.39\n",
            "Epoch: 018/020 | Batch 000/002 | Loss: 0.44\n",
            "Epoch: 018/020 | Batch 001/002 | Loss: 0.31\n",
            "Epoch: 019/020 | Batch 000/002 | Loss: 0.34\n",
            "Epoch: 019/020 | Batch 001/002 | Loss: 0.39\n",
            "Epoch: 020/020 | Batch 000/002 | Loss: 0.33\n",
            "Epoch: 020/020 | Batch 001/002 | Loss: 0.38\n"
          ]
        }
      ],
      "source": [
        "import torch.nn.functional as F\n",
        "\n",
        "\n",
        "torch.manual_seed(1)\n",
        "model = LogisticRegression(num_features=2)\n",
        "optimizer = torch.optim.SGD(model.parameters(), lr=0.05)\n",
        "\n",
        "num_epochs = 20\n",
        "\n",
        "for epoch in range(num_epochs):\n",
        "\n",
        "    model = model.train()\n",
        "    for batch_idx, (features, class_labels) in enumerate(train_loader):\n",
        "\n",
        "        probas = model(features)\n",
        "\n",
        "        loss = F.binary_cross_entropy(probas, class_labels.view(probas.shape))\n",
        "\n",
        "        optimizer.zero_grad()\n",
        "        loss.backward()\n",
        "        optimizer.step()\n",
        "\n",
        "        ### LOGGING\n",
        "        print(f'Epoch: {epoch+1:03d}/{num_epochs:03d}'\n",
        "               f' | Batch {batch_idx:03d}/{len(train_loader):03d}'\n",
        "               f' | Loss: {loss:.2f}')\n"
      ]
    },
    {
      "cell_type": "markdown",
      "id": "bb0d5821-7c8d-46b5-9e7d-02e72cac2acc",
      "metadata": {
        "id": "bb0d5821-7c8d-46b5-9e7d-02e72cac2acc"
      },
      "source": [
        "## 6) Evaluating the results\n",
        "\n",
        "We evaluate the model by computing its accuracy on the dataset."
      ]
    },
    {
      "cell_type": "code",
      "execution_count": 20,
      "id": "de622a50-f406-4a36-a216-1023951502fc",
      "metadata": {
        "colab": {
          "base_uri": "https://localhost:8080/"
        },
        "id": "de622a50-f406-4a36-a216-1023951502fc",
        "outputId": "a44acb9e-d07d-40ec-bbc3-28a6a21ff014"
      },
      "outputs": [
        {
          "data": {
            "text/plain": [
              "tensor([[0.6687],\n",
              "        [0.6810],\n",
              "        [0.2162],\n",
              "        [0.7398],\n",
              "        [0.2126],\n",
              "        [0.5744],\n",
              "        [0.3209],\n",
              "        [0.6503],\n",
              "        [0.4276],\n",
              "        [0.2598]], grad_fn=<SigmoidBackward0>)"
            ]
          },
          "execution_count": 20,
          "metadata": {},
          "output_type": "execute_result"
        }
      ],
      "source": [
        "probas"
      ]
    },
    {
      "cell_type": "code",
      "execution_count": 21,
      "id": "530d69a2-e428-4c8c-b9e9-a4da5238b90e",
      "metadata": {
        "colab": {
          "base_uri": "https://localhost:8080/"
        },
        "id": "530d69a2-e428-4c8c-b9e9-a4da5238b90e",
        "outputId": "1d021fb1-599e-403d-af16-93874c4d84df"
      },
      "outputs": [
        {
          "data": {
            "text/plain": [
              "tensor([[1],\n",
              "        [1],\n",
              "        [0],\n",
              "        [1],\n",
              "        [0],\n",
              "        [1],\n",
              "        [0],\n",
              "        [1],\n",
              "        [0],\n",
              "        [0]])"
            ]
          },
          "execution_count": 21,
          "metadata": {},
          "output_type": "execute_result"
        }
      ],
      "source": [
        "pred = torch.where(probas > 0.5, 1, 0)\n",
        "pred"
      ]
    },
    {
      "cell_type": "code",
      "execution_count": 22,
      "id": "126754f3-bfed-4c95-ab14-82be9c07bbea",
      "metadata": {
        "colab": {
          "base_uri": "https://localhost:8080/"
        },
        "id": "126754f3-bfed-4c95-ab14-82be9c07bbea",
        "outputId": "3461c1ca-b93f-4eba-e30e-d2139060a1d2"
      },
      "outputs": [
        {
          "data": {
            "text/plain": [
              "tensor([[1],\n",
              "        [1],\n",
              "        [0],\n",
              "        [1],\n",
              "        [0],\n",
              "        [1],\n",
              "        [0],\n",
              "        [1],\n",
              "        [0],\n",
              "        [0]])"
            ]
          },
          "execution_count": 22,
          "metadata": {},
          "output_type": "execute_result"
        }
      ],
      "source": [
        "class_labels.view(pred.shape).to(pred.dtype)"
      ]
    },
    {
      "cell_type": "code",
      "execution_count": 23,
      "id": "d910ddbb-798f-47ab-8aab-e2dba4aa4005",
      "metadata": {
        "id": "d910ddbb-798f-47ab-8aab-e2dba4aa4005"
      },
      "outputs": [],
      "source": [
        "def compute_accuracy(model, dataloader):\n",
        "\n",
        "    model = model.eval()\n",
        "\n",
        "    correct = 0.0\n",
        "    total_examples = 0\n",
        "\n",
        "    for idx, (features, class_labels) in enumerate(dataloader):\n",
        "\n",
        "        with torch.no_grad():\n",
        "            probas = model(features)\n",
        "\n",
        "        pred = torch.where(probas > 0.5, 1, 0)\n",
        "        lab = class_labels.view(pred.shape).to(pred.dtype)\n",
        "\n",
        "        compare = lab == pred\n",
        "        correct += torch.sum(compare)\n",
        "        total_examples += len(compare)\n",
        "\n",
        "    return correct / total_examples"
      ]
    },
    {
      "cell_type": "code",
      "execution_count": 24,
      "id": "27538c8d-61bc-47b0-8289-b6aab4aa16ed",
      "metadata": {
        "id": "27538c8d-61bc-47b0-8289-b6aab4aa16ed"
      },
      "outputs": [],
      "source": [
        "train_acc = compute_accuracy(model, train_loader)"
      ]
    },
    {
      "cell_type": "code",
      "execution_count": 25,
      "id": "5a4ecf35-4745-43a8-8ea8-14f71cba5b59",
      "metadata": {
        "colab": {
          "base_uri": "https://localhost:8080/"
        },
        "id": "5a4ecf35-4745-43a8-8ea8-14f71cba5b59",
        "outputId": "c5ae3a23-0d30-4960-bc9e-720fe10e8363"
      },
      "outputs": [
        {
          "name": "stdout",
          "output_type": "stream",
          "text": [
            "Accuracy: 100.0%\n"
          ]
        }
      ],
      "source": [
        "print(f\"Accuracy: {train_acc*100}%\")"
      ]
    },
    {
      "cell_type": "markdown",
      "id": "fbcd412a-02c0-4d2c-835e-4b01368f53f8",
      "metadata": {
        "id": "fbcd412a-02c0-4d2c-835e-4b01368f53f8"
      },
      "source": [
        "## 7) Optional: visualizing the decision boundary\n",
        "\n",
        "We can also visualize the decision boundary of the model."
      ]
    },
    {
      "cell_type": "code",
      "execution_count": 26,
      "id": "5d9f1813-d232-4a7d-aebc-cfd5303fae48",
      "metadata": {
        "id": "5d9f1813-d232-4a7d-aebc-cfd5303fae48"
      },
      "outputs": [],
      "source": [
        "def plot_boundary(model):\n",
        "\n",
        "    w1 = model.linear.weight[0][0].detach()\n",
        "    w2 = model.linear.weight[0][1].detach()\n",
        "    b = model.linear.bias[0].detach()\n",
        "\n",
        "    x1_min = -20\n",
        "    x2_min = (-(w1 * x1_min) - b) / w2\n",
        "\n",
        "    x1_max = 20\n",
        "    x2_max = (-(w1 * x1_max) - b) / w2\n",
        "\n",
        "    return x1_min, x1_max, x2_min, x2_max"
      ]
    },
    {
      "cell_type": "code",
      "execution_count": 27,
      "id": "2d71b5df-dd8d-41d5-b6fd-640d6f40d5a2",
      "metadata": {
        "colab": {
          "base_uri": "https://localhost:8080/",
          "height": 455
        },
        "id": "2d71b5df-dd8d-41d5-b6fd-640d6f40d5a2",
        "outputId": "f22fbe27-278a-4beb-db3e-b75cd53f4af5"
      },
      "outputs": [
        {
          "data": {
            "image/png": "[encoded data removed]",
            "text/plain": [
              "<Figure size 640x480 with 1 Axes>"
            ]
          },
          "metadata": {},
          "output_type": "display_data"
        }
      ],
      "source": [
        "x1_min, x1_max, x2_min, x2_max = plot_boundary(model)\n",
        "\n",
        "\n",
        "plt.plot(\n",
        "    X_train[y_train == 0, 0],\n",
        "    X_train[y_train == 0, 1],\n",
        "    marker=\"D\",\n",
        "    markersize=10,\n",
        "    linestyle=\"\",\n",
        "    label=\"Class 0\",\n",
        ")\n",
        "\n",
        "plt.plot(\n",
        "    X_train[y_train == 1, 0],\n",
        "    X_train[y_train == 1, 1],\n",
        "    marker=\"^\",\n",
        "    markersize=13,\n",
        "    linestyle=\"\",\n",
        "    label=\"Class 1\",\n",
        ")\n",
        "\n",
        "plt.plot([x1_min, x1_max], [x2_min, x2_max], color=\"k\")\n",
        "\n",
        "plt.legend(loc=2)\n",
        "\n",
        "plt.xlim([-5, 5])\n",
        "plt.ylim([-5, 5])\n",
        "\n",
        "plt.xlabel(\"Feature $x_1$\", fontsize=12)\n",
        "plt.ylabel(\"Feature $x_2$\", fontsize=12)\n",
        "\n",
        "plt.grid()\n",
        "plt.show()"
      ]
    },
    {
      "cell_type": "markdown",
      "id": "e62467c8",
      "metadata": {},
      "source": [
        "## 8) Optional: exploring the model performance\n",
        "\n",
        "As we said before, you don't have to do any coding in this unit. But if you really want to, here is something you can try: play around with the model's hyperparameters (learning rate, number of epochs, etc.) and see how they affect its performance. In particular, what happens when you try a 10x or 100x smaller learning rate?"
      ]
    }
  ],
  "metadata": {
    "colab": {
      "provenance": []
    },
    "kernelspec": {
      "display_name": "Python 3 (ipykernel)",
      "language": "python",
      "name": "python3"
    },
    "language_info": {
      "codemirror_mode": {
        "name": "ipython",
        "version": 3
      },
      "file_extension": ".py",
      "mimetype": "text/x-python",
      "name": "python",
      "nbconvert_exporter": "python",
      "pygments_lexer": "ipython3",
      "version": "3.9.7"
    }
  },
  "nbformat": 4,
  "nbformat_minor": 5
}
